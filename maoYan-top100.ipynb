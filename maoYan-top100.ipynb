{
 "cells": [
  {
   "cell_type": "code",
   "execution_count": 2,
   "metadata": {},
   "outputs": [
    {
     "name": "stderr",
     "output_type": "stream",
     "text": [
      "C:\\ProgramData\\Anaconda3\\lib\\site-packages\\ipykernel_launcher.py:10: DeprecationWarning: find_element_by_xpath is deprecated. Please use find_element(by=By.XPATH, value=xpath) instead\n",
      "  # Remove the CWD from sys.path while we load stuff.\n",
      "C:\\ProgramData\\Anaconda3\\lib\\site-packages\\ipykernel_launcher.py:12: DeprecationWarning: find_element_by_xpath is deprecated. Please use find_element(by=By.XPATH, value=xpath) instead\n",
      "  if sys.path[0] == '':\n"
     ]
    },
    {
     "name": "stdout",
     "output_type": "stream",
     "text": [
      "------进入top100页面----\n"
     ]
    },
    {
     "name": "stderr",
     "output_type": "stream",
     "text": [
      "C:\\ProgramData\\Anaconda3\\lib\\site-packages\\ipykernel_launcher.py:18: DeprecationWarning: find_elements_by_class_name is deprecated. Please use find_elements(by=By.CLASS_NAME, value=name) instead\n"
     ]
    },
    {
     "name": "stdout",
     "output_type": "stream",
     "text": [
      "1\n",
      "2\n",
      "3\n",
      "4\n",
      "5\n",
      "6\n",
      "7\n",
      "8\n",
      "9\n",
      "10\n"
     ]
    }
   ],
   "source": [
    "from selenium import webdriver\n",
    "import time\n",
    "import random\n",
    "#创建有界面浏览器对象,需下载与chrome版本一致的chromedriver，并将chromedriever文件路径添加到环境变量path中\n",
    "driver=webdriver.Chrome() \n",
    "\n",
    "#请求页面，进入top100页面\n",
    "driver.get('https://www.maoyan.com/')\n",
    "time.sleep(5) #等待5s,点击重定向，进入猫眼主页\n",
    "driver.find_element_by_xpath('/html/body/div[1]/div/div[2]/ul/li[5]/a').click() #找到榜单标签，点击进入榜单界面\n",
    "time.sleep(random.randint(2,5)) #随机等2到5秒\n",
    "driver.find_element_by_xpath('/html/body/div[3]/ul/li[5]/a').click() #点击top100标签，点击进入top100页面\n",
    "time.sleep(random.randint(2,5)) #随机等2到5秒\n",
    "pagesources=[] #自动点击每个page，获取每个page的html并添加到pagesources列表中\n",
    "print('------进入top100页面----')\n",
    "#循环点击页面标签，获取每一页的html\n",
    "for i in range(1,11):\n",
    "    driver.find_elements_by_class_name(\"page_\"+str(i))[0].click() #按照class查找标签，并点击\n",
    "    pagesources.append(driver.page_source)\n",
    "    time.sleep(random.randint(5,10)) #随机等5到10秒\n",
    "    print(i)"
   ]
  }
 ],
 "metadata": {
  "kernelspec": {
   "display_name": "Python 3",
   "language": "python",
   "name": "python3"
  },
  "language_info": {
   "codemirror_mode": {
    "name": "ipython",
    "version": 3
   },
   "file_extension": ".py",
   "mimetype": "text/x-python",
   "name": "python",
   "nbconvert_exporter": "python",
   "pygments_lexer": "ipython3",
   "version": "3.7.1"
  },
  "toc": {
   "base_numbering": 1,
   "nav_menu": {},
   "number_sections": true,
   "sideBar": true,
   "skip_h1_title": false,
   "title_cell": "Table of Contents",
   "title_sidebar": "Contents",
   "toc_cell": false,
   "toc_position": {},
   "toc_section_display": true,
   "toc_window_display": false
  }
 },
 "nbformat": 4,
 "nbformat_minor": 4
}
